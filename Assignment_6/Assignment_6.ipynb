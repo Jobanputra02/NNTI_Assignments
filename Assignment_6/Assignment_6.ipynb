{
 "cells": [
  {
   "cell_type": "markdown",
   "metadata": {},
   "source": [
    "# NNTI Assignment 6"
   ]
  },
  {
   "cell_type": "markdown",
   "metadata": {},
   "source": [
    "## Batch Normalization\n",
    "In this exercise you will again construct a feed forward neural network, however you will use batch normalization during training. Training deep neural networks can be challenging due to the change in the distribution of inputs to layers deep in the network as a result of the updates of the weights in the previous layers. This causes the learning to chase a \"moving target\", which slows down the learning process. Batch normalization is a technique that aims to address this problem by normalizing layer inputs. This stabilizes the learning process and can greatly decrease training time. If you are interested you can read the paper introducing batch normalization [here](https://arxiv.org/abs/1502.03167).\n",
    "\n",
    "You will be working with the [FashionMNIST](https://pytorch.org/vision/stable/generated/torchvision.datasets.FashionMNIST.html) dataset by Zalando, which consists of $28\\times 28$ black and white images and has 10 classes just like the [MNIST](https://pytorch.org/vision/main/generated/torchvision.datasets.MNIST.html) dataset. But instead of numbers the classes are various items of clothing such as shoes, t-shirts, dresses, etc."
   ]
  },
  {
   "cell_type": "markdown",
   "metadata": {},
   "source": [
    "### 1. Baseline Network (1 point)\n",
    "You are provided with a dataloader for the train and test sets, each with a batch size of 64. Your task is to construct a feed forward neural network with 3 hidden linear layers with a ReLU after each of the first 2 layers. The first layer should have a hidden size of 64 and the second a hidden size of 32. This is a multi-class classification problem so you will need to use cross entropy loss (provided by [nn.CrossEntropyLoss](https://pytorch.org/docs/stable/generated/torch.nn.CrossEntropyLoss.html)). Use a stochastic gradient descent (provided by [torch.optim.SGD](https://pytorch.org/docs/stable/generated/torch.optim.SGD.html)) with a learning rate of 0.001 as the optimizer. Train your network on the training data for 5 epochs and report accuracy on the **test** set after each epoch, for this refer to [PyTorch Training Loop](https://pytorch.org/tutorials/beginner/introyt/trainingyt.html#the-training-loop) and [Per-Epoch Activity](https://pytorch.org/tutorials/beginner/introyt/trainingyt.html#per-epoch-activity). Make sure to save the accuracies.\n",
    "(hint: the data comes in the format of $28 \\times 28$ tensors, so you will need flatten it to train your network)"
   ]
  },
  {
   "cell_type": "code",
   "execution_count": 1,
   "metadata": {},
   "outputs": [],
   "source": [
    "import torch\n",
    "import torchvision\n",
    "import torch.nn as nn\n",
    "from torchvision import transforms\n",
    "import matplotlib.pyplot as plt"
   ]
  },
  {
   "cell_type": "code",
   "execution_count": 2,
   "metadata": {},
   "outputs": [],
   "source": [
    "# load train and test set\n",
    "fashion_trainset = torchvision.datasets.FashionMNIST('data/', train=True, download=True, transform=transforms.ToTensor())\n",
    "fashion_testset = torchvision.datasets.FashionMNIST('data/', train=False, download=True, transform=transforms.ToTensor())"
   ]
  },
  {
   "cell_type": "code",
   "execution_count": 3,
   "metadata": {},
   "outputs": [],
   "source": [
    "# get train and test loader\n",
    "fashion_train_loader = torch.utils.data.DataLoader(dataset=fashion_trainset, batch_size=64, shuffle=True)\n",
    "fashion_test_loader = torch.utils.data.DataLoader(dataset=fashion_testset, batch_size=64, shuffle=False)"
   ]
  },
  {
   "cell_type": "code",
   "execution_count": 4,
   "metadata": {},
   "outputs": [],
   "source": [
    "class FashionNetwork(nn.Module):\n",
    "    def __init__(self):\n",
    "        super(FashionNetwork, self).__init__()\n",
    "        self.model = nn.Sequential(\n",
    "            nn.Flatten(),  # flatten the 28x28 input into a 784 vector\n",
    "            nn.Linear(28 * 28, 64), # first hidden layer\n",
    "            nn.ReLU(), # activation for the first hidden layer\n",
    "            nn.Linear(64, 32), # second hidden layer\n",
    "            nn.ReLU(), # activation for the second hidden layer\n",
    "            nn.Linear(32, 10) # output layer with 10 classes\n",
    "        )\n",
    "        self.loss_fn = nn.CrossEntropyLoss() # loass as cross-entropy loss\n",
    "\n",
    "    def forward(self, x):\n",
    "        return self.model(x)\n",
    "\n",
    "    def optimize(self, train_loader, test_loader):\n",
    "        import torch.optim as optim\n",
    "\n",
    "        lr = 0.001\n",
    "        optimizer = optim.SGD(self.parameters(), lr=lr)\n",
    "        test_accuracies = []\n",
    "        \n",
    "        epochs = 5\n",
    "        for epoch in range(epochs):\n",
    "            self.train()\n",
    "            for images, labels in train_loader:\n",
    "\n",
    "                # forward pass\n",
    "                outputs = self(images)\n",
    "                loss = self.loss_fn(outputs, labels)\n",
    "                \n",
    "                # backward pass and optimization\n",
    "                optimizer.zero_grad()\n",
    "                loss.backward()\n",
    "                optimizer.step()\n",
    "\n",
    "            test_accuracy = self.test(test_loader)\n",
    "            test_accuracies.append(test_accuracy)\n",
    "\n",
    "        return test_accuracies\n",
    "\n",
    "    def test(self, test_loader):\n",
    "        self.eval()\n",
    "        correct = 0\n",
    "        total = 0\n",
    "        with torch.no_grad():  # disable gradient calculation (for testing)\n",
    "            for images, labels in test_loader:\n",
    "                outputs = self(images)\n",
    "                _, predicted = torch.max(outputs, 1)  # class with max probability\n",
    "                total += labels.size(0)\n",
    "                correct += (predicted == labels).sum().item()\n",
    "\n",
    "        accuracy = 100 * correct / total  # for accuracy in percentage\n",
    "        return accuracy"
   ]
  },
  {
   "cell_type": "code",
   "execution_count": 5,
   "metadata": {},
   "outputs": [
    {
     "name": "stdout",
     "output_type": "stream",
     "text": [
      "[24.58, 28.15, 38.91, 51.22, 52.94]\n"
     ]
    }
   ],
   "source": [
    "fashion_network = FashionNetwork()\n",
    "baseline_accuracies = fashion_network.optimize(fashion_train_loader, fashion_test_loader)\n",
    "print(baseline_accuracies)"
   ]
  },
  {
   "cell_type": "markdown",
   "metadata": {},
   "source": [
    "### 2. Network with Batch Normalization (0.5 points)\n",
    "Construct another network with the same parameters as 2.1 but this time include a batch normalization layer (use [nn.BatchNorm1d](https://pytorch.org/docs/stable/generated/torch.nn.BatchNorm1d.html)). Where to place this layer is up to you, but you can reference the lecture slides for inspiration. Again train your network for 5 epochs and report **test** accuracy after each epoch."
   ]
  },
  {
   "cell_type": "code",
   "execution_count": 6,
   "metadata": {},
   "outputs": [],
   "source": [
    "class FashionNetworkBatchNorm(nn.Module):\n",
    "    def __init__(self):\n",
    "        super(FashionNetworkBatchNorm, self).__init__()\n",
    "        self.model = nn.Sequential(\n",
    "            nn.Flatten(),  # flatten the 28x28 input into a 784 vector\n",
    "            nn.Linear(28 * 28, 64), # first hidden layer\n",
    "            nn.BatchNorm1d(64), # batch norm for the first hidden layer\n",
    "            nn.ReLU(), # activation for the first hidden layer\n",
    "            nn.Linear(64, 32), # second hidden layer\n",
    "            nn.BatchNorm1d(32), # batch norm for the second hidden layer\n",
    "            nn.ReLU(), # activation for the second hidden layer\n",
    "            nn.Linear(32, 10) # output layer with 10 classes\n",
    "        )\n",
    "        self.loss_fn = nn.CrossEntropyLoss() # loass as cross-entropy loss\n",
    "\n",
    "    def forward(self, x):\n",
    "        return self.model(x)\n",
    "\n",
    "    def optimize(self, train_loader, test_loader):\n",
    "        import torch.optim as optim\n",
    "\n",
    "        lr = 0.001\n",
    "        optimizer = optim.SGD(self.parameters(), lr=lr)\n",
    "        test_accuracies = []\n",
    "        \n",
    "        epochs = 5\n",
    "        for epoch in range(epochs):\n",
    "            self.train()\n",
    "            for images, labels in train_loader:\n",
    "\n",
    "                # forward pass\n",
    "                outputs = self(images)\n",
    "                loss = self.loss_fn(outputs, labels)\n",
    "                \n",
    "                # backward pass and optimization\n",
    "                optimizer.zero_grad()\n",
    "                loss.backward()\n",
    "                optimizer.step()\n",
    "\n",
    "            test_accuracy = self.test(test_loader)\n",
    "            test_accuracies.append(test_accuracy)\n",
    "\n",
    "        return test_accuracies\n",
    "\n",
    "    def test(self, test_loader):\n",
    "        self.eval()\n",
    "        correct = 0\n",
    "        total = 0\n",
    "        with torch.no_grad():  # disable gradient calculation (for testing)\n",
    "            for images, labels in test_loader:\n",
    "                outputs = self(images)\n",
    "                _, predicted = torch.max(outputs, 1)  # class with max probability\n",
    "                total += labels.size(0)\n",
    "                correct += (predicted == labels).sum().item()\n",
    "\n",
    "        accuracy = 100 * correct / total  # for accuracy in percentage\n",
    "        return accuracy"
   ]
  },
  {
   "cell_type": "code",
   "execution_count": 7,
   "metadata": {},
   "outputs": [
    {
     "name": "stdout",
     "output_type": "stream",
     "text": [
      "[72.03, 75.8, 77.99, 79.79, 81.03]\n"
     ]
    }
   ],
   "source": [
    "fashion_network_batch_norm = FashionNetworkBatchNorm()\n",
    "batchnorm_accuracies = fashion_network_batch_norm.optimize(fashion_train_loader, fashion_test_loader)\n",
    "print(batchnorm_accuracies)"
   ]
  },
  {
   "cell_type": "markdown",
   "metadata": {},
   "source": [
    "### 3. Plotting the Performances (0.25 points)\n",
    "Plot the accuracies of the 2 networks and **discuss what you observe**."
   ]
  },
  {
   "cell_type": "code",
   "execution_count": 8,
   "metadata": {},
   "outputs": [
    {
     "data": {
      "image/png": "[encoded data removed]",
      "text/plain": [
       "<Figure size 640x480 with 1 Axes>"
      ]
     },
     "metadata": {},
     "output_type": "display_data"
    }
   ],
   "source": [
    "plt.plot(range(1, 6), baseline_accuracies, marker='o', label='Baseline Network')\n",
    "plt.plot(range(1, 6), batchnorm_accuracies, marker='x', label='Batch-Normalized Network')\n",
    "plt.xticks(range(1, 6))\n",
    "plt.xlabel('Epoch')\n",
    "plt.ylabel('Accuracy (%)')\n",
    "plt.title('Test Accuracy Over Epochs')\n",
    "plt.legend()\n",
    "plt.show()"
   ]
  },
  {
   "cell_type": "markdown",
   "metadata": {},
   "source": [
    "**Your Answer:**\n",
    "\n",
    "- The baseline network shows a slow improvement in accuracy over epochs, starting around 25% and reaching til 55% after 5 epochs. The batch-normalized network starts with a much higher initial accuracy around 70%, indicating that it benefits from better-initialized distributions and faster learning.\n",
    "- The progress per epoch is inconsistent in baseline network, with a noticeable plateau between epochs 2 and 4, indicating that the network struggles to learn efficiently. Whereas in batch-normalized network the improvement  is more consistent, with the accuracy reaching more than 80% after 5 epochs.\n",
    "- The key difference is that batch norm stabilizes training by ensuring that inputs to each layer have a normalized distribution. This allows the network to converge faster. Also, assuming the baseline network can improve further with more epochs or hyperparameter tuning, it would still likely lag behind the batch-norm network due to its less stable learning process.\n"
   ]
  },
  {
   "cell_type": "markdown",
   "metadata": {},
   "source": []
  }
 ],
 "metadata": {
  "kernelspec": {
   "display_name": "Python 3",
   "language": "python",
   "name": "python3"
  },
  "language_info": {
   "codemirror_mode": {
    "name": "ipython",
    "version": 3
   },
   "file_extension": ".py",
   "mimetype": "text/x-python",
   "name": "python",
   "nbconvert_exporter": "python",
   "pygments_lexer": "ipython3",
   "version": "3.12.7"
  }
 },
 "nbformat": 4,
 "nbformat_minor": 2
}
